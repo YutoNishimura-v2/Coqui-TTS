{
 "cells": [
  {
   "cell_type": "markdown",
   "metadata": {},
   "source": [
    "# フォルダ構造やテキストなどは複製しながらダウンサンプリングするコード"
   ]
  },
  {
   "cell_type": "code",
   "execution_count": 5,
   "metadata": {},
   "outputs": [],
   "source": [
    "input_base = \"/home/yuto_nishimura/workspace/python/yellston/TTS/datasets/Coefont-Studio\"\n",
    "output_base = \"/home/yuto_nishimura/workspace/python/yellston/TTS/datasets/Coefont-Studio-16khz\"\n",
    "copy_other_files = True\n",
    "target_sampling_rate = 16000"
   ]
  },
  {
   "cell_type": "code",
   "execution_count": 6,
   "metadata": {},
   "outputs": [],
   "source": [
    "from pathlib import Path\n",
    "import subprocess\n",
    "import shutil\n",
    "from tqdm import tqdm"
   ]
  },
  {
   "cell_type": "code",
   "execution_count": 7,
   "metadata": {},
   "outputs": [
    {
     "name": "stderr",
     "output_type": "stream",
     "text": [
      "100%|██████████| 8460/8460 [00:14<00:00, 590.60it/s]\n"
     ]
    }
   ],
   "source": [
    "for file_path in tqdm(list(Path(input_base).glob(\"**/*\"))):\n",
    "    if file_path.is_dir() is True:\n",
    "        continue\n",
    "    _suffix = file_path.suffix.lstrip('.')\n",
    "\n",
    "    if copy_other_files is False:\n",
    "        if _suffix != \"wav\":\n",
    "            continue\n",
    "    else:\n",
    "        new_file_path = Path(output_base + str(file_path).replace(input_base, \"\"))\n",
    "        if new_file_path.parent.exists() is False:\n",
    "            new_file_path.parent.mkdir(parents=True, exist_ok=True)\n",
    "\n",
    "        if _suffix != \"wav\":\n",
    "            # 単にコピー\n",
    "            shutil.copy(file_path, new_file_path)\n",
    "        else:\n",
    "            # ダウンサンプリングして出力\n",
    "            subprocess.Popen(\n",
    "                f\"sox {file_path} -c 1 -b 16 -r {target_sampling_rate} -e signed-integer {new_file_path}\",\n",
    "                stdin=subprocess.PIPE, stdout=subprocess.PIPE, stderr=subprocess.PIPE, shell=True\n",
    "            )"
   ]
  },
  {
   "cell_type": "code",
   "execution_count": null,
   "metadata": {},
   "outputs": [],
   "source": []
  }
 ],
 "metadata": {
  "interpreter": {
   "hash": "77c184dac9a452df07584400bfa4fb4bda64022b198990d435b7e311ca2ac170"
  },
  "kernelspec": {
   "display_name": "Python 3.9.7 ('vc_tts_template')",
   "language": "python",
   "name": "python3"
  },
  "language_info": {
   "codemirror_mode": {
    "name": "ipython",
    "version": 3
   },
   "file_extension": ".py",
   "mimetype": "text/x-python",
   "name": "python",
   "nbconvert_exporter": "python",
   "pygments_lexer": "ipython3",
   "version": "3.9.7"
  },
  "orig_nbformat": 4
 },
 "nbformat": 4,
 "nbformat_minor": 2
}
